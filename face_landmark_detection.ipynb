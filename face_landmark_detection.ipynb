{
 "cells": [
  {
   "cell_type": "code",
   "execution_count": 7,
   "id": "7492df21",
   "metadata": {},
   "outputs": [],
   "source": [
    "import cv2\n",
    "import mediapipe as mp"
   ]
  },
  {
   "cell_type": "code",
   "execution_count": 8,
   "id": "4de09f3a",
   "metadata": {},
   "outputs": [],
   "source": [
    "draw=mp.solutions.drawing_utils\n",
    "styles=mp.solutions.drawing_styles"
   ]
  },
  {
   "cell_type": "code",
   "execution_count": 13,
   "id": "462a345c",
   "metadata": {},
   "outputs": [],
   "source": [
    "\n",
    "cap=cv2.VideoCapture(0)\n",
    "\n",
    "mp_face=mp.solutions.face_mesh\n",
    "\n",
    "with mp_face.FaceMesh(\n",
    "    max_num_faces=1,\n",
    "    refine_landmarks=True,\n",
    "    min_detection_confidence=0.5,\n",
    "    min_tracking_confidence=0.5\n",
    ") as face_mesh:\n",
    "\n",
    "    \n",
    "    while cap.isOpened():\n",
    "      success,image=cap.read()\n",
    "      results=face_mesh.process(image)\n",
    "      for face_landmarks in results.multi_face_landmarks:\n",
    "        draw.draw_landmarks(\n",
    "            image=image,\n",
    "            landmark_list=face_landmarks,\n",
    "            connections=mp_face.FACEMESH_CONTOURS,\n",
    "            landmark_drawing_spec=None,\n",
    "            connection_drawing_spec=styles\n",
    "            .get_default_face_mesh_contours_style()\n",
    "        )\n",
    "      cv2.imshow(\"My video\",cv2.flip(image,1))\n",
    "\n",
    "      if cv2.waitKey(1) & 0xFF ==ord('q'):\n",
    "        break\n",
    "\n",
    "cap.release()\n",
    "cv2.destroyAllWindows()"
   ]
  },
  {
   "cell_type": "code",
   "execution_count": null,
   "id": "0852bb34",
   "metadata": {},
   "outputs": [],
   "source": []
  }
 ],
 "metadata": {
  "kernelspec": {
   "display_name": "Python 3 (ipykernel)",
   "language": "python",
   "name": "python3"
  },
  "language_info": {
   "codemirror_mode": {
    "name": "ipython",
    "version": 3
   },
   "file_extension": ".py",
   "mimetype": "text/x-python",
   "name": "python",
   "nbconvert_exporter": "python",
   "pygments_lexer": "ipython3",
   "version": "3.11.5"
  }
 },
 "nbformat": 4,
 "nbformat_minor": 5
}
